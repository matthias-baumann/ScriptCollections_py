{
 "cells": [
  {
   "cell_type": "markdown",
   "metadata": {},
   "source": [
    "# Create spectral-temporal metrics and visualize them in ipynb\n",
    "#### Input from *fitoprincipe* @ github\n",
    "https://github.com/baumi-berlin/ee-jupyter-contrib/blob/master/examples/getting-started/display-interactive-map.ipynb"
   ]
  },
  {
   "cell_type": "code",
   "execution_count": null,
   "metadata": {},
   "outputs": [],
   "source": [
    "import ee  # the Earth Engine Python API library\n",
    "ee.Initialize()\n",
    "import ipyleaflet  # an interactive mapping \"widget\" for the notebook\n",
    "from baumiTools import baumiEE, baumiVT\n",
    "import json, osr"
   ]
  },
  {
   "cell_type": "markdown",
   "metadata": {},
   "source": [
    "# Load a polygon shapefile for the extent\n",
    "here, we load a shapefile for the extent that we want to process only. This reduces computional time, and also will directly zoom to the location we are working. Test-case is a tile in the Chaco"
   ]
  },
  {
   "cell_type": "code",
   "execution_count": null,
   "metadata": {},
   "outputs": [],
   "source": [
    "shp = baumiVT.CopyToMem(\"C:/Miniconda3/envs/py37/Lib/site-packages/baumiTools/geeTools/Chiqui_Outline.shp\")\n",
    "lyr = shp.GetLayer()\n",
    "featList = []\n",
    "feat = lyr.GetNextFeature()\n",
    "geom = feat.GetGeometryRef()\n",
    "\n",
    "# Convert the CS to EPSG:4326\n",
    "source_SR = geom.GetSpatialReference()\n",
    "target_SR = osr.SpatialReference()\n",
    "target_SR.ImportFromEPSG(4326)\n",
    "trans = osr.CoordinateTransformation(source_SR, target_SR)\n",
    "geom.Transform(trans)\n",
    "\n",
    "geom_json = json.loads(geom.ExportToJson())\n",
    "geom_coord = geom_json['coordinates']\n",
    "geom_EE = ee.Geometry.Polygon(coords=geom_coord)\n",
    "lyr.ResetReading()"
   ]
  },
  {
   "cell_type": "markdown",
   "metadata": {},
   "source": [
    "### Somehow, this only works for the Sentinel-2 metrics. I assume that there are too many L8 iamgery being selected. For the Path/Row selection the function works smoothly (EDIT: when I run it with a reduced selection of imagery (e.g., only L5/7) then a composite emerges"
   ]
  },
  {
   "cell_type": "markdown",
   "metadata": {},
   "source": [
    "# Define the composite/metric we want to look at"
   ]
  },
  {
   "cell_type": "code",
   "execution_count": null,
   "metadata": {},
   "outputs": [],
   "source": [
    "median_L8 = baumiEE.Calculate_Landsat_Seasonal_Median(year=2019, startMonth=1, endMonth=3, roi=geom_EE)# path=228, row=75)#, roi=geom_EE)# additional arguments: roi=feat_EE or path=227, row=28\n",
    "#for win in [[4,6], [7,9],[10,12]]:\n",
    "#    median_L8 = median_L8.addBands(baumiEE.Calculate_Landsat_Seasonal_Median(year=2019, startMonth=win[0], endMonth=win[1]))\n",
    "bandNames_L8 = median_L8.bandNames()\n",
    "#bandNames_L8.getInfo()\n",
    "median_S2 = baumiEE.Calculate_S2_Seasonal_Median(year=2019, startMonth=1, endMonth=3, roi=geom_EE)\n",
    "bandNames_S2 = median_S2.bandNames()\n",
    "#bandNames_S2.getInfo()"
   ]
  },
  {
   "cell_type": "markdown",
   "metadata": {},
   "source": [
    "# Display a Dynamic Map\n",
    "To display an Earth Engine generated tiles on the interactive map, we will use ipyleaflet's TileLayer object. First we start by defining a function that can generate a tile layer URL from an Earth Engine image object."
   ]
  },
  {
   "cell_type": "code",
   "execution_count": null,
   "metadata": {},
   "outputs": [],
   "source": [
    "def GetTileLayerUrl(ee_image_object):\n",
    "  map_id = ee.Image(ee_image_object).getMapId()\n",
    "  tile_url_template = \"https://earthengine.googleapis.com/map/{mapid}/{{z}}/{{x}}/{{y}}?token={token}\"\n",
    "  return tile_url_template.format(**map_id)"
   ]
  },
  {
   "cell_type": "code",
   "execution_count": null,
   "metadata": {},
   "outputs": [],
   "source": [
    "Map = ipyleaflet.Map(center=(-14.438411, -63.743799), zoom=4,\n",
    "                      layout={'height':'600px'},\n",
    "                      scroll_wheel_zoom=True,\n",
    "                    show_loading=True)\n",
    "Landsat8 = ipyleaflet.TileLayer(name=\"Landsat8\", url=GetTileLayerUrl(\n",
    "    median_L8.visualize(min=0, max=8000, gamma=1.5,bands= ['R_2019-01-03', 'G_2019-01-03', 'B_2019-01-03'])))\n",
    "Sentinel2 = ipyleaflet.TileLayer(name=\"Sentinel2\", url=GetTileLayerUrl(\n",
    "    median_S2.visualize(min=0, max=8000, gamma=1.5,bands= ['R_2019-01-03', 'G_2019-01-03', 'B_2019-01-03'])))\n",
    "\n",
    "Map.add_layer(Landsat8)\n",
    "Map.add_layer(Sentinel2)\n",
    "Map.add_control(ipyleaflet.LayersControl(position='topright'))\n",
    "\n",
    "Map\n"
   ]
  }
 ],
 "metadata": {
  "kernelspec": {
   "display_name": "Python 3",
   "language": "python",
   "name": "python3"
  },
  "language_info": {
   "codemirror_mode": {
    "name": "ipython",
    "version": 3
   },
   "file_extension": ".py",
   "mimetype": "text/x-python",
   "name": "python",
   "nbconvert_exporter": "python",
   "pygments_lexer": "ipython3",
   "version": "3.8.8"
  }
 },
 "nbformat": 4,
 "nbformat_minor": 2
}
